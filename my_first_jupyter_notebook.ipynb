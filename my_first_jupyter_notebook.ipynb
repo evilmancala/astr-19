{
 "cells": [
  {
   "cell_type": "markdown",
   "id": "427d0fa4-4cc9-4f0f-a2e6-4fa704dad3d8",
   "metadata": {
    "editable": true,
    "slideshow": {
     "slide_type": ""
    },
    "tags": []
   },
   "source": [
    "# *My first Jupyter notebook*\n",
    "\n",
    "hooray, i did a markdown tab. somehow. adds text!\n",
    "\n",
    "This is my **FIRST** *Jupyter Notebook*."
   ]
  },
  {
   "cell_type": "code",
   "execution_count": 1,
   "id": "b945dbd5-84a9-431f-8e03-df02a934e06f",
   "metadata": {},
   "outputs": [],
   "source": [
    "import numpy as np"
   ]
  },
  {
   "cell_type": "code",
   "execution_count": 2,
   "id": "e15a856f-8486-4a0e-bfed-89359bd91cc6",
   "metadata": {},
   "outputs": [],
   "source": [
    "n = 20 #define an integer\n",
    "x = np.arange(n,dtype=float) #define an array from 1-19"
   ]
  },
  {
   "cell_type": "code",
   "execution_count": 3,
   "id": "7c272083-bc90-4ed4-8aa0-508f66553b05",
   "metadata": {},
   "outputs": [
    {
     "name": "stdout",
     "output_type": "stream",
     "text": [
      "[ 0.  1.  2.  3.  4.  5.  6.  7.  8.  9. 10. 11. 12. 13. 14. 15. 16. 17.\n",
      " 18. 19.]\n"
     ]
    }
   ],
   "source": [
    "print(x)"
   ]
  },
  {
   "cell_type": "code",
   "execution_count": 5,
   "id": "3854e44a-e220-4230-8629-afd1d63eab91",
   "metadata": {},
   "outputs": [],
   "source": [
    "a = \"ASTR 19 is still awesome\""
   ]
  },
  {
   "cell_type": "code",
   "execution_count": 6,
   "id": "ed2c505d-c29a-473a-9ce5-1c6fafb94ad0",
   "metadata": {},
   "outputs": [],
   "source": [
    "n = 10\n",
    "x = np.arange(n,dtype=float)"
   ]
  },
  {
   "cell_type": "code",
   "execution_count": 7,
   "id": "46d31a36-85e4-44c1-9460-d8457467099d",
   "metadata": {},
   "outputs": [
    {
     "name": "stdout",
     "output_type": "stream",
     "text": [
      "[0. 1. 2. 3. 4. 5. 6. 7. 8. 9.]\n"
     ]
    }
   ],
   "source": [
    "print(x)"
   ]
  },
  {
   "cell_type": "code",
   "execution_count": null,
   "id": "70e6cd56-f103-4ddb-8813-6c5ba0d15f0e",
   "metadata": {},
   "outputs": [],
   "source": []
  }
 ],
 "metadata": {
  "kernelspec": {
   "display_name": "Python 3 (ipykernel)",
   "language": "python",
   "name": "python3"
  },
  "language_info": {
   "codemirror_mode": {
    "name": "ipython",
    "version": 3
   },
   "file_extension": ".py",
   "mimetype": "text/x-python",
   "name": "python",
   "nbconvert_exporter": "python",
   "pygments_lexer": "ipython3",
   "version": "3.13.2"
  }
 },
 "nbformat": 4,
 "nbformat_minor": 5
}
